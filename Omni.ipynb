{
 "cells": [
  {
   "cell_type": "code",
   "execution_count": 1,
   "id": "8aa1cdd5",
   "metadata": {},
   "outputs": [],
   "source": [
    "import numpy as np\n",
    "import pandas as pd\n",
    "import matplotlib.pyplot as plt\n",
    "import seaborn as sns"
   ]
  },
  {
   "cell_type": "code",
   "execution_count": 2,
   "id": "3167da88",
   "metadata": {},
   "outputs": [
    {
     "data": {
      "text/html": [
       "<div>\n",
       "<style scoped>\n",
       "    .dataframe tbody tr th:only-of-type {\n",
       "        vertical-align: middle;\n",
       "    }\n",
       "\n",
       "    .dataframe tbody tr th {\n",
       "        vertical-align: top;\n",
       "    }\n",
       "\n",
       "    .dataframe thead th {\n",
       "        text-align: right;\n",
       "    }\n",
       "</style>\n",
       "<table border=\"1\" class=\"dataframe\">\n",
       "  <thead>\n",
       "    <tr style=\"text-align: right;\">\n",
       "      <th></th>\n",
       "      <th>Company Name</th>\n",
       "      <th>Address</th>\n",
       "      <th>Phone</th>\n",
       "      <th>Link</th>\n",
       "      <th>Rating</th>\n",
       "      <th>NumReview</th>\n",
       "      <th>Pin Code</th>\n",
       "      <th>Latitude</th>\n",
       "      <th>Longitude</th>\n",
       "    </tr>\n",
       "  </thead>\n",
       "  <tbody>\n",
       "    <tr>\n",
       "      <th>0</th>\n",
       "      <td>Brahmins Coffee Bar</td>\n",
       "      <td>Ranga Rao Road, Shankarapuram, Basavanagudi, B...</td>\n",
       "      <td>+(91)-9845030234</td>\n",
       "      <td>https://www.justdial.com/Bangalore/Brahmins-Co...</td>\n",
       "      <td>4.5</td>\n",
       "      <td>17504</td>\n",
       "      <td>560004</td>\n",
       "      <td>12.945281</td>\n",
       "      <td>77.574343</td>\n",
       "    </tr>\n",
       "    <tr>\n",
       "      <th>1</th>\n",
       "      <td>Hard Rock Cafe</td>\n",
       "      <td>No 40, Bible Society Building, St Marks Road, ...</td>\n",
       "      <td>+(91)-80-41242222</td>\n",
       "      <td>https://www.justdial.com/Bangalore/Hard-Rock-C...</td>\n",
       "      <td>4.3</td>\n",
       "      <td>15321</td>\n",
       "      <td>560001</td>\n",
       "      <td>12.974064</td>\n",
       "      <td>77.594598</td>\n",
       "    </tr>\n",
       "    <tr>\n",
       "      <th>2</th>\n",
       "      <td>Kaapi Katte</td>\n",
       "      <td>No.1160, Nehru Main Road, Beml Layout, 3rd Sta...</td>\n",
       "      <td>+(91)-80-28600044</td>\n",
       "      <td>https://www.justdial.com/Bangalore/Kaapi-Katte...</td>\n",
       "      <td>4.5</td>\n",
       "      <td>13421</td>\n",
       "      <td>560098</td>\n",
       "      <td>12.919529</td>\n",
       "      <td>77.518294</td>\n",
       "    </tr>\n",
       "    <tr>\n",
       "      <th>3</th>\n",
       "      <td>The Hole In The Wall Cafe</td>\n",
       "      <td>No 4, 8th Main Road, Koramangala 4th Block, Ba...</td>\n",
       "      <td>+(91)-080-40949490</td>\n",
       "      <td>https://www.justdial.com/Bangalore/The-Hole-In...</td>\n",
       "      <td>4.3</td>\n",
       "      <td>13073</td>\n",
       "      <td>560034</td>\n",
       "      <td>12.928168</td>\n",
       "      <td>77.635953</td>\n",
       "    </tr>\n",
       "    <tr>\n",
       "      <th>4</th>\n",
       "      <td>Kapoors Cafe</td>\n",
       "      <td>Thubarahalli, Varthur Main Road, Whitefield, B...</td>\n",
       "      <td>+(91)-080-32559441</td>\n",
       "      <td>https://www.justdial.com/Bangalore/Kapoors-Caf...</td>\n",
       "      <td>4.0</td>\n",
       "      <td>9612</td>\n",
       "      <td>560066</td>\n",
       "      <td>12.972498</td>\n",
       "      <td>77.735027</td>\n",
       "    </tr>\n",
       "  </tbody>\n",
       "</table>\n",
       "</div>"
      ],
      "text/plain": [
       "                Company Name  \\\n",
       "0        Brahmins Coffee Bar   \n",
       "1             Hard Rock Cafe   \n",
       "2                Kaapi Katte   \n",
       "3  The Hole In The Wall Cafe   \n",
       "4               Kapoors Cafe   \n",
       "\n",
       "                                             Address               Phone  \\\n",
       "0  Ranga Rao Road, Shankarapuram, Basavanagudi, B...    +(91)-9845030234   \n",
       "1  No 40, Bible Society Building, St Marks Road, ...   +(91)-80-41242222   \n",
       "2  No.1160, Nehru Main Road, Beml Layout, 3rd Sta...   +(91)-80-28600044   \n",
       "3  No 4, 8th Main Road, Koramangala 4th Block, Ba...  +(91)-080-40949490   \n",
       "4  Thubarahalli, Varthur Main Road, Whitefield, B...  +(91)-080-32559441   \n",
       "\n",
       "                                                Link  Rating  NumReview  \\\n",
       "0  https://www.justdial.com/Bangalore/Brahmins-Co...     4.5      17504   \n",
       "1  https://www.justdial.com/Bangalore/Hard-Rock-C...     4.3      15321   \n",
       "2  https://www.justdial.com/Bangalore/Kaapi-Katte...     4.5      13421   \n",
       "3  https://www.justdial.com/Bangalore/The-Hole-In...     4.3      13073   \n",
       "4  https://www.justdial.com/Bangalore/Kapoors-Caf...     4.0       9612   \n",
       "\n",
       "   Pin Code   Latitude  Longitude  \n",
       "0    560004  12.945281  77.574343  \n",
       "1    560001  12.974064  77.594598  \n",
       "2    560098  12.919529  77.518294  \n",
       "3    560034  12.928168  77.635953  \n",
       "4    560066  12.972498  77.735027  "
      ]
     },
     "execution_count": 2,
     "metadata": {},
     "output_type": "execute_result"
    }
   ],
   "source": [
    "data = pd.read_csv(\"Data Test - Sheet1.csv\")\n",
    "data.head()"
   ]
  },
  {
   "cell_type": "code",
   "execution_count": 37,
   "id": "8f42b618",
   "metadata": {},
   "outputs": [
    {
     "name": "stdout",
     "output_type": "stream",
     "text": [
      "<class 'pandas.core.frame.DataFrame'>\n",
      "RangeIndex: 340 entries, 0 to 339\n",
      "Data columns (total 9 columns):\n",
      " #   Column        Non-Null Count  Dtype         \n",
      "---  ------        --------------  -----         \n",
      " 0   Company Name  340 non-null    object        \n",
      " 1   Address       340 non-null    datetime64[ns]\n",
      " 2   Phone         339 non-null    object        \n",
      " 3   Link          340 non-null    datetime64[ns]\n",
      " 4   Rating        340 non-null    float64       \n",
      " 5   NumReview     340 non-null    int64         \n",
      " 6   Pin Code      340 non-null    int64         \n",
      " 7   Latitude      340 non-null    float64       \n",
      " 8   Longitude     340 non-null    float64       \n",
      "dtypes: datetime64[ns](2), float64(3), int64(2), object(2)\n",
      "memory usage: 24.0+ KB\n",
      "<class 'pandas.core.frame.DataFrame'>\n",
      "RangeIndex: 340 entries, 0 to 339\n",
      "Data columns (total 9 columns):\n",
      " #   Column        Non-Null Count  Dtype         \n",
      "---  ------        --------------  -----         \n",
      " 0   Company Name  340 non-null    object        \n",
      " 1   Address       340 non-null    datetime64[ns]\n",
      " 2   Phone         339 non-null    object        \n",
      " 3   Link          340 non-null    datetime64[ns]\n",
      " 4   Rating        340 non-null    float64       \n",
      " 5   NumReview     340 non-null    int64         \n",
      " 6   Pin Code      340 non-null    int64         \n",
      " 7   Latitude      340 non-null    float64       \n",
      " 8   Longitude     340 non-null    float64       \n",
      "dtypes: datetime64[ns](2), float64(3), int64(2), object(2)\n",
      "memory usage: 24.0+ KB\n",
      "None\n"
     ]
    }
   ],
   "source": [
    "data.info()\n",
    "print(data.info())"
   ]
  },
  {
   "cell_type": "code",
   "execution_count": 38,
   "id": "47dfd715",
   "metadata": {},
   "outputs": [
    {
     "name": "stdout",
     "output_type": "stream",
     "text": [
      "                Company Name                       Address  \\\n",
      "0        Brahmins Coffee Bar 1970-01-01 00:00:00.000000012   \n",
      "1             Hard Rock Cafe 1970-01-01 00:00:00.000000012   \n",
      "2                Kaapi Katte 1970-01-01 00:00:00.000000012   \n",
      "3  The Hole In The Wall Cafe 1970-01-01 00:00:00.000000012   \n",
      "4               Kapoors Cafe 1970-01-01 00:00:00.000000012   \n",
      "\n",
      "                Phone                          Link  Rating  NumReview  \\\n",
      "0    +(91)-9845030234 1970-01-01 00:00:00.000000077     4.5      17504   \n",
      "1   +(91)-80-41242222 1970-01-01 00:00:00.000000077     4.3      15321   \n",
      "2   +(91)-80-28600044 1970-01-01 00:00:00.000000077     4.5      13421   \n",
      "3  +(91)-080-40949490 1970-01-01 00:00:00.000000077     4.3      13073   \n",
      "4  +(91)-080-32559441 1970-01-01 00:00:00.000000077     4.0       9612   \n",
      "\n",
      "   Pin Code   Latitude  Longitude  \n",
      "0    560004  12.945281  77.574343  \n",
      "1    560001  12.974064  77.594598  \n",
      "2    560098  12.919529  77.518294  \n",
      "3    560034  12.928168  77.635953  \n",
      "4    560066  12.972498  77.735027  \n"
     ]
    }
   ],
   "source": [
    "data.head()\n",
    "print(data.head())"
   ]
  },
  {
   "cell_type": "code",
   "execution_count": 40,
   "id": "3db6c167",
   "metadata": {},
   "outputs": [
    {
     "name": "stdout",
     "output_type": "stream",
     "text": [
      "                      Company Name                       Address  \\\n",
      "335                Athma Gyan Yoga 1970-01-01 00:00:00.000000012   \n",
      "336                       Siddaram 1970-01-01 00:00:00.000000013   \n",
      "337                 Yoga With Manu 1970-01-01 00:00:00.000000012   \n",
      "338              Asha Yoga Trainer 1970-01-01 00:00:00.000000013   \n",
      "339  Yajna Therapeutic Yoga Rese.. 1970-01-01 00:00:00.000000012   \n",
      "\n",
      "                Phone                          Link  Rating  NumReview  \\\n",
      "335  +(91)-9739556688 1970-01-01 00:00:00.000000077     4.3          4   \n",
      "336  +(91)-9845379642 1970-01-01 00:00:00.000000077     3.2          3   \n",
      "337       07947215224 1970-01-01 00:00:00.000000077     4.8          2   \n",
      "338       07947205375 1970-01-01 00:00:00.000000077     5.0          1   \n",
      "339       07947366360 1970-01-01 00:00:00.000000077     5.0          1   \n",
      "\n",
      "     Pin Code   Latitude  Longitude  \n",
      "335    560028  12.933372  77.565701  \n",
      "336    560058  13.027537  77.518694  \n",
      "337    560003  12.996616  77.570890  \n",
      "338    560064  13.100104  77.588460  \n",
      "339    560066  12.972498  77.735027  \n"
     ]
    }
   ],
   "source": [
    "data.tail()\n",
    "print(data.tail())"
   ]
  },
  {
   "cell_type": "code",
   "execution_count": 4,
   "id": "58590bb3",
   "metadata": {},
   "outputs": [
    {
     "data": {
      "text/plain": [
       "Company Name    0\n",
       "Address         0\n",
       "Phone           1\n",
       "Link            0\n",
       "Rating          0\n",
       "NumReview       0\n",
       "Pin Code        0\n",
       "Latitude        0\n",
       "Longitude       0\n",
       "dtype: int64"
      ]
     },
     "execution_count": 4,
     "metadata": {},
     "output_type": "execute_result"
    }
   ],
   "source": [
    "data.isna().sum()"
   ]
  },
  {
   "cell_type": "code",
   "execution_count": 41,
   "id": "7fa44adf",
   "metadata": {},
   "outputs": [
    {
     "name": "stdout",
     "output_type": "stream",
     "text": [
      "           Rating     NumReview       Pin Code    Latitude   Longitude\n",
      "count  340.000000    340.000000     340.000000  340.000000  340.000000\n",
      "mean     4.268235   1312.232353  560074.779412   13.824528   76.281597\n",
      "std      0.389148   2318.842374     195.691426    5.468216    8.587776\n",
      "min      3.200000      1.000000  560001.000000   12.782844   20.253788\n",
      "25%      4.000000     30.750000  560035.000000   12.931024   77.574343\n",
      "50%      4.200000    203.000000  560060.000000   12.977070   77.599907\n",
      "75%      4.525000   2019.750000  560080.250000   13.019287   77.645250\n",
      "max      5.000000  17504.000000  562125.000000   49.183223   77.797355\n"
     ]
    }
   ],
   "source": [
    "data.describe()\n",
    "print(data.describe())"
   ]
  },
  {
   "cell_type": "code",
   "execution_count": 42,
   "id": "e89d2000",
   "metadata": {},
   "outputs": [
    {
     "data": {
      "text/plain": [
       "<AxesSubplot:>"
      ]
     },
     "execution_count": 42,
     "metadata": {},
     "output_type": "execute_result"
    },
    {
     "data": {
      "image/png": "[encoded data removed]",
      "text/plain": [
       "<Figure size 864x576 with 1 Axes>"
      ]
     },
     "metadata": {
      "needs_background": "light"
     },
     "output_type": "display_data"
    }
   ],
   "source": [
    "plt.figure(figsize=(12,8))\n",
    "sns.boxplot(data=data)"
   ]
  },
  {
   "cell_type": "code",
   "execution_count": 43,
   "id": "0bd24e0d",
   "metadata": {},
   "outputs": [
    {
     "name": "stderr",
     "output_type": "stream",
     "text": [
      "C:\\Users\\yashr\\Anaconda3\\lib\\site-packages\\seaborn\\_decorators.py:36: FutureWarning: Pass the following variable as a keyword arg: x. From version 0.12, the only valid positional argument will be `data`, and passing other arguments without an explicit keyword will result in an error or misinterpretation.\n",
      "  warnings.warn(\n"
     ]
    },
    {
     "data": {
      "text/plain": [
       "<AxesSubplot:xlabel='Rating'>"
      ]
     },
     "execution_count": 43,
     "metadata": {},
     "output_type": "execute_result"
    },
    {
     "data": {
      "image/png": "[encoded data removed]",
      "text/plain": [
       "<Figure size 432x288 with 1 Axes>"
      ]
     },
     "metadata": {
      "needs_background": "light"
     },
     "output_type": "display_data"
    }
   ],
   "source": [
    "sns.boxplot(data['Rating'])"
   ]
  },
  {
   "cell_type": "code",
   "execution_count": 44,
   "id": "ce1eb0bb",
   "metadata": {},
   "outputs": [
    {
     "name": "stderr",
     "output_type": "stream",
     "text": [
      "C:\\Users\\yashr\\Anaconda3\\lib\\site-packages\\seaborn\\_decorators.py:36: FutureWarning: Pass the following variable as a keyword arg: x. From version 0.12, the only valid positional argument will be `data`, and passing other arguments without an explicit keyword will result in an error or misinterpretation.\n",
      "  warnings.warn(\n"
     ]
    },
    {
     "data": {
      "text/plain": [
       "<AxesSubplot:xlabel='Longitude'>"
      ]
     },
     "execution_count": 44,
     "metadata": {},
     "output_type": "execute_result"
    },
    {
     "data": {
      "image/png": "[encoded data removed]",
      "text/plain": [
       "<Figure size 432x288 with 1 Axes>"
      ]
     },
     "metadata": {
      "needs_background": "light"
     },
     "output_type": "display_data"
    }
   ],
   "source": [
    "sns.boxplot(data['Longitude'])"
   ]
  },
  {
   "cell_type": "code",
   "execution_count": 45,
   "id": "f02bd00a",
   "metadata": {},
   "outputs": [
    {
     "name": "stderr",
     "output_type": "stream",
     "text": [
      "C:\\Users\\yashr\\Anaconda3\\lib\\site-packages\\seaborn\\_decorators.py:36: FutureWarning: Pass the following variable as a keyword arg: x. From version 0.12, the only valid positional argument will be `data`, and passing other arguments without an explicit keyword will result in an error or misinterpretation.\n",
      "  warnings.warn(\n"
     ]
    },
    {
     "data": {
      "text/plain": [
       "<AxesSubplot:xlabel='Latitude'>"
      ]
     },
     "execution_count": 45,
     "metadata": {},
     "output_type": "execute_result"
    },
    {
     "data": {
      "image/png": "[encoded data removed]",
      "text/plain": [
       "<Figure size 432x288 with 1 Axes>"
      ]
     },
     "metadata": {
      "needs_background": "light"
     },
     "output_type": "display_data"
    }
   ],
   "source": [
    "sns.boxplot(data['Latitude'])"
   ]
  },
  {
   "cell_type": "code",
   "execution_count": 47,
   "id": "eb97ea98",
   "metadata": {},
   "outputs": [
    {
     "data": {
      "text/plain": [
       "<AxesSubplot:xlabel='Rating', ylabel='Longitude'>"
      ]
     },
     "execution_count": 47,
     "metadata": {},
     "output_type": "execute_result"
    },
    {
     "data": {
      "image/png": "[encoded data removed]",
      "text/plain": [
       "<Figure size 432x288 with 1 Axes>"
      ]
     },
     "metadata": {
      "needs_background": "light"
     },
     "output_type": "display_data"
    }
   ],
   "source": [
    "sns.barplot(data=data,x='Rating',y='Longitude')"
   ]
  },
  {
   "cell_type": "code",
   "execution_count": 49,
   "id": "e4ac072b",
   "metadata": {},
   "outputs": [
    {
     "data": {
      "text/plain": [
       "<AxesSubplot:xlabel='Rating', ylabel='Latitude'>"
      ]
     },
     "execution_count": 49,
     "metadata": {},
     "output_type": "execute_result"
    },
    {
     "data": {
      "image/png": "[encoded data removed]",
      "text/plain": [
       "<Figure size 432x288 with 1 Axes>"
      ]
     },
     "metadata": {
      "needs_background": "light"
     },
     "output_type": "display_data"
    }
   ],
   "source": [
    "sns.barplot(data=data,x='Rating',y='Latitude')"
   ]
  },
  {
   "cell_type": "code",
   "execution_count": null,
   "id": "41974288",
   "metadata": {},
   "outputs": [],
   "source": []
  },
  {
   "cell_type": "code",
   "execution_count": 24,
   "id": "a0345808",
   "metadata": {},
   "outputs": [],
   "source": [
    "# import modules\n",
    "import pandas as pd\n",
    "from sklearn.linear_model import LinearRegression\n",
    "from sklearn.model_selection import train_test_split\n",
    "from sklearn.metrics import confusion_matrix\n",
    "from sklearn.tree import DecisionTreeClassifier\n",
    "from sklearn.metrics import accuracy_score\n",
    "from sklearn.metrics import classification_report\n",
    "\n"
   ]
  },
  {
   "cell_type": "code",
   "execution_count": 25,
   "id": "eea67f29",
   "metadata": {},
   "outputs": [
    {
     "data": {
      "text/html": [
       "<div>\n",
       "<style scoped>\n",
       "    .dataframe tbody tr th:only-of-type {\n",
       "        vertical-align: middle;\n",
       "    }\n",
       "\n",
       "    .dataframe tbody tr th {\n",
       "        vertical-align: top;\n",
       "    }\n",
       "\n",
       "    .dataframe thead th {\n",
       "        text-align: right;\n",
       "    }\n",
       "</style>\n",
       "<table border=\"1\" class=\"dataframe\">\n",
       "  <thead>\n",
       "    <tr style=\"text-align: right;\">\n",
       "      <th></th>\n",
       "      <th>Company Name</th>\n",
       "      <th>Address</th>\n",
       "      <th>Phone</th>\n",
       "      <th>Link</th>\n",
       "      <th>Rating</th>\n",
       "      <th>NumReview</th>\n",
       "      <th>Pin Code</th>\n",
       "      <th>Latitude</th>\n",
       "      <th>Longitude</th>\n",
       "    </tr>\n",
       "  </thead>\n",
       "  <tbody>\n",
       "    <tr>\n",
       "      <th>0</th>\n",
       "      <td>Brahmins Coffee Bar</td>\n",
       "      <td>1970-01-01 00:00:00.000000012</td>\n",
       "      <td>+(91)-9845030234</td>\n",
       "      <td>1970-01-01 00:00:00.000000077</td>\n",
       "      <td>4.5</td>\n",
       "      <td>17504</td>\n",
       "      <td>560004</td>\n",
       "      <td>12.945281</td>\n",
       "      <td>77.574343</td>\n",
       "    </tr>\n",
       "    <tr>\n",
       "      <th>1</th>\n",
       "      <td>Hard Rock Cafe</td>\n",
       "      <td>1970-01-01 00:00:00.000000012</td>\n",
       "      <td>+(91)-80-41242222</td>\n",
       "      <td>1970-01-01 00:00:00.000000077</td>\n",
       "      <td>4.3</td>\n",
       "      <td>15321</td>\n",
       "      <td>560001</td>\n",
       "      <td>12.974064</td>\n",
       "      <td>77.594598</td>\n",
       "    </tr>\n",
       "    <tr>\n",
       "      <th>2</th>\n",
       "      <td>Kaapi Katte</td>\n",
       "      <td>1970-01-01 00:00:00.000000012</td>\n",
       "      <td>+(91)-80-28600044</td>\n",
       "      <td>1970-01-01 00:00:00.000000077</td>\n",
       "      <td>4.5</td>\n",
       "      <td>13421</td>\n",
       "      <td>560098</td>\n",
       "      <td>12.919529</td>\n",
       "      <td>77.518294</td>\n",
       "    </tr>\n",
       "    <tr>\n",
       "      <th>3</th>\n",
       "      <td>The Hole In The Wall Cafe</td>\n",
       "      <td>1970-01-01 00:00:00.000000012</td>\n",
       "      <td>+(91)-080-40949490</td>\n",
       "      <td>1970-01-01 00:00:00.000000077</td>\n",
       "      <td>4.3</td>\n",
       "      <td>13073</td>\n",
       "      <td>560034</td>\n",
       "      <td>12.928168</td>\n",
       "      <td>77.635953</td>\n",
       "    </tr>\n",
       "    <tr>\n",
       "      <th>4</th>\n",
       "      <td>Kapoors Cafe</td>\n",
       "      <td>1970-01-01 00:00:00.000000012</td>\n",
       "      <td>+(91)-080-32559441</td>\n",
       "      <td>1970-01-01 00:00:00.000000077</td>\n",
       "      <td>4.0</td>\n",
       "      <td>9612</td>\n",
       "      <td>560066</td>\n",
       "      <td>12.972498</td>\n",
       "      <td>77.735027</td>\n",
       "    </tr>\n",
       "  </tbody>\n",
       "</table>\n",
       "</div>"
      ],
      "text/plain": [
       "                Company Name                       Address  \\\n",
       "0        Brahmins Coffee Bar 1970-01-01 00:00:00.000000012   \n",
       "1             Hard Rock Cafe 1970-01-01 00:00:00.000000012   \n",
       "2                Kaapi Katte 1970-01-01 00:00:00.000000012   \n",
       "3  The Hole In The Wall Cafe 1970-01-01 00:00:00.000000012   \n",
       "4               Kapoors Cafe 1970-01-01 00:00:00.000000012   \n",
       "\n",
       "                Phone                          Link  Rating  NumReview  \\\n",
       "0    +(91)-9845030234 1970-01-01 00:00:00.000000077     4.5      17504   \n",
       "1   +(91)-80-41242222 1970-01-01 00:00:00.000000077     4.3      15321   \n",
       "2   +(91)-80-28600044 1970-01-01 00:00:00.000000077     4.5      13421   \n",
       "3  +(91)-080-40949490 1970-01-01 00:00:00.000000077     4.3      13073   \n",
       "4  +(91)-080-32559441 1970-01-01 00:00:00.000000077     4.0       9612   \n",
       "\n",
       "   Pin Code   Latitude  Longitude  \n",
       "0    560004  12.945281  77.574343  \n",
       "1    560001  12.974064  77.594598  \n",
       "2    560098  12.919529  77.518294  \n",
       "3    560034  12.928168  77.635953  \n",
       "4    560066  12.972498  77.735027  "
      ]
     },
     "execution_count": 25,
     "metadata": {},
     "output_type": "execute_result"
    }
   ],
   "source": [
    "# read the dataset\n",
    "data = pd.read_csv('Data Test - Sheet1.csv')\n",
    "data['Link'] = pd.to_datetime(data['Longitude'])\n",
    "data['Address'] = pd.to_datetime(data['Latitude'])\n",
    "data.head()"
   ]
  },
  {
   "cell_type": "code",
   "execution_count": 26,
   "id": "1ba6d949",
   "metadata": {},
   "outputs": [
    {
     "data": {
      "text/html": [
       "<div>\n",
       "<style scoped>\n",
       "    .dataframe tbody tr th:only-of-type {\n",
       "        vertical-align: middle;\n",
       "    }\n",
       "\n",
       "    .dataframe tbody tr th {\n",
       "        vertical-align: top;\n",
       "    }\n",
       "\n",
       "    .dataframe thead th {\n",
       "        text-align: right;\n",
       "    }\n",
       "</style>\n",
       "<table border=\"1\" class=\"dataframe\">\n",
       "  <thead>\n",
       "    <tr style=\"text-align: right;\">\n",
       "      <th></th>\n",
       "      <th>Company Name</th>\n",
       "      <th>Address</th>\n",
       "      <th>Phone</th>\n",
       "      <th>Link</th>\n",
       "      <th>Rating</th>\n",
       "      <th>NumReview</th>\n",
       "      <th>Pin Code</th>\n",
       "      <th>Latitude</th>\n",
       "    </tr>\n",
       "  </thead>\n",
       "  <tbody>\n",
       "    <tr>\n",
       "      <th>175</th>\n",
       "      <td>Amigo Lounge and Salon Unis..</td>\n",
       "      <td>1970-01-01 00:00:00.000000012</td>\n",
       "      <td>07947165966</td>\n",
       "      <td>1970-01-01 00:00:00.000000077</td>\n",
       "      <td>4.3</td>\n",
       "      <td>60</td>\n",
       "      <td>560085</td>\n",
       "      <td>12.931062</td>\n",
       "    </tr>\n",
       "    <tr>\n",
       "      <th>63</th>\n",
       "      <td>Kapoors Cafe</td>\n",
       "      <td>1970-01-01 00:00:00.000000012</td>\n",
       "      <td>+(91)-9886752502</td>\n",
       "      <td>1970-01-01 00:00:00.000000077</td>\n",
       "      <td>3.9</td>\n",
       "      <td>2511</td>\n",
       "      <td>560011</td>\n",
       "      <td>12.930907</td>\n",
       "    </tr>\n",
       "    <tr>\n",
       "      <th>37</th>\n",
       "      <td>On The Nose</td>\n",
       "      <td>1970-01-01 00:00:00.000000012</td>\n",
       "      <td>+(91)-80-42008978</td>\n",
       "      <td>1970-01-01 00:00:00.000000077</td>\n",
       "      <td>3.9</td>\n",
       "      <td>3509</td>\n",
       "      <td>560076</td>\n",
       "      <td>12.897426</td>\n",
       "    </tr>\n",
       "    <tr>\n",
       "      <th>126</th>\n",
       "      <td>Fsansaria Unisex Parlour An..</td>\n",
       "      <td>1970-01-01 00:00:00.000000012</td>\n",
       "      <td>+(91)-80-48519484</td>\n",
       "      <td>1970-01-01 00:00:00.000000077</td>\n",
       "      <td>4.3</td>\n",
       "      <td>409</td>\n",
       "      <td>560048</td>\n",
       "      <td>12.993109</td>\n",
       "    </tr>\n",
       "    <tr>\n",
       "      <th>199</th>\n",
       "      <td>Golden Dream Unisex Saloon ..</td>\n",
       "      <td>1970-01-01 00:00:00.000000013</td>\n",
       "      <td>07947162107</td>\n",
       "      <td>1970-01-01 00:00:00.000000077</td>\n",
       "      <td>3.7</td>\n",
       "      <td>26</td>\n",
       "      <td>560043</td>\n",
       "      <td>13.019287</td>\n",
       "    </tr>\n",
       "  </tbody>\n",
       "</table>\n",
       "</div>"
      ],
      "text/plain": [
       "                      Company Name                       Address  \\\n",
       "175  Amigo Lounge and Salon Unis.. 1970-01-01 00:00:00.000000012   \n",
       "63                    Kapoors Cafe 1970-01-01 00:00:00.000000012   \n",
       "37                     On The Nose 1970-01-01 00:00:00.000000012   \n",
       "126  Fsansaria Unisex Parlour An.. 1970-01-01 00:00:00.000000012   \n",
       "199  Golden Dream Unisex Saloon .. 1970-01-01 00:00:00.000000013   \n",
       "\n",
       "                 Phone                          Link  Rating  NumReview  \\\n",
       "175        07947165966 1970-01-01 00:00:00.000000077     4.3         60   \n",
       "63    +(91)-9886752502 1970-01-01 00:00:00.000000077     3.9       2511   \n",
       "37   +(91)-80-42008978 1970-01-01 00:00:00.000000077     3.9       3509   \n",
       "126  +(91)-80-48519484 1970-01-01 00:00:00.000000077     4.3        409   \n",
       "199        07947162107 1970-01-01 00:00:00.000000077     3.7         26   \n",
       "\n",
       "     Pin Code   Latitude  \n",
       "175    560085  12.931062  \n",
       "63     560011  12.930907  \n",
       "37     560076  12.897426  \n",
       "126    560048  12.993109  \n",
       "199    560043  13.019287  "
      ]
     },
     "execution_count": 26,
     "metadata": {},
     "output_type": "execute_result"
    }
   ],
   "source": [
    "# get the locations\n",
    "X = data.iloc[:, :-1]\n",
    "y = data.iloc[:, -8]\n",
    " \n",
    "# split the dataset\n",
    "X_train, X_test, y_train, y_test = train_test_split(\n",
    "    X, y, test_size=0.05, random_state=0)\n",
    "\n",
    "X_train.head()"
   ]
  },
  {
   "cell_type": "code",
   "execution_count": 27,
   "id": "80446a58",
   "metadata": {},
   "outputs": [
    {
     "data": {
      "text/html": [
       "<div>\n",
       "<style scoped>\n",
       "    .dataframe tbody tr th:only-of-type {\n",
       "        vertical-align: middle;\n",
       "    }\n",
       "\n",
       "    .dataframe tbody tr th {\n",
       "        vertical-align: top;\n",
       "    }\n",
       "\n",
       "    .dataframe thead th {\n",
       "        text-align: right;\n",
       "    }\n",
       "</style>\n",
       "<table border=\"1\" class=\"dataframe\">\n",
       "  <thead>\n",
       "    <tr style=\"text-align: right;\">\n",
       "      <th></th>\n",
       "      <th>Company Name</th>\n",
       "      <th>Address</th>\n",
       "      <th>Phone</th>\n",
       "      <th>Link</th>\n",
       "      <th>Rating</th>\n",
       "      <th>NumReview</th>\n",
       "      <th>Pin Code</th>\n",
       "      <th>Latitude</th>\n",
       "    </tr>\n",
       "  </thead>\n",
       "  <tbody>\n",
       "    <tr>\n",
       "      <th>225</th>\n",
       "      <td>Amr Mens Parlour</td>\n",
       "      <td>1970-01-01 00:00:00.000000013</td>\n",
       "      <td>+(91)-9945322587</td>\n",
       "      <td>1970-01-01 00:00:00.000000077</td>\n",
       "      <td>4.3</td>\n",
       "      <td>3</td>\n",
       "      <td>560022</td>\n",
       "      <td>13.023197</td>\n",
       "    </tr>\n",
       "    <tr>\n",
       "      <th>271</th>\n",
       "      <td>Maidan Athletic Club</td>\n",
       "      <td>1970-01-01 00:00:00.000000013</td>\n",
       "      <td>+(91)-8884000984</td>\n",
       "      <td>1970-01-01 00:00:00.000000077</td>\n",
       "      <td>4.5</td>\n",
       "      <td>134</td>\n",
       "      <td>560043</td>\n",
       "      <td>13.019287</td>\n",
       "    </tr>\n",
       "    <tr>\n",
       "      <th>204</th>\n",
       "      <td>Shine Spot Salon &amp; Skin Cli..</td>\n",
       "      <td>1970-01-01 00:00:00.000000012</td>\n",
       "      <td>07947165881</td>\n",
       "      <td>1970-01-01 00:00:00.000000077</td>\n",
       "      <td>4.6</td>\n",
       "      <td>17</td>\n",
       "      <td>560037</td>\n",
       "      <td>12.957177</td>\n",
       "    </tr>\n",
       "    <tr>\n",
       "      <th>274</th>\n",
       "      <td>Yogatree</td>\n",
       "      <td>1970-01-01 00:00:00.000000012</td>\n",
       "      <td>+(91)-9900220033</td>\n",
       "      <td>1970-01-01 00:00:00.000000077</td>\n",
       "      <td>4.4</td>\n",
       "      <td>120</td>\n",
       "      <td>560076</td>\n",
       "      <td>12.897426</td>\n",
       "    </tr>\n",
       "    <tr>\n",
       "      <th>299</th>\n",
       "      <td>The Dance Stories Center Of..</td>\n",
       "      <td>1970-01-01 00:00:00.000000012</td>\n",
       "      <td>07947159662</td>\n",
       "      <td>1970-01-01 00:00:00.000000077</td>\n",
       "      <td>5.0</td>\n",
       "      <td>36</td>\n",
       "      <td>560102</td>\n",
       "      <td>12.997821</td>\n",
       "    </tr>\n",
       "  </tbody>\n",
       "</table>\n",
       "</div>"
      ],
      "text/plain": [
       "                      Company Name                       Address  \\\n",
       "225               Amr Mens Parlour 1970-01-01 00:00:00.000000013   \n",
       "271           Maidan Athletic Club 1970-01-01 00:00:00.000000013   \n",
       "204  Shine Spot Salon & Skin Cli.. 1970-01-01 00:00:00.000000012   \n",
       "274                       Yogatree 1970-01-01 00:00:00.000000012   \n",
       "299  The Dance Stories Center Of.. 1970-01-01 00:00:00.000000012   \n",
       "\n",
       "                Phone                          Link  Rating  NumReview  \\\n",
       "225  +(91)-9945322587 1970-01-01 00:00:00.000000077     4.3          3   \n",
       "271  +(91)-8884000984 1970-01-01 00:00:00.000000077     4.5        134   \n",
       "204       07947165881 1970-01-01 00:00:00.000000077     4.6         17   \n",
       "274  +(91)-9900220033 1970-01-01 00:00:00.000000077     4.4        120   \n",
       "299       07947159662 1970-01-01 00:00:00.000000077     5.0         36   \n",
       "\n",
       "     Pin Code   Latitude  \n",
       "225    560022  13.023197  \n",
       "271    560043  13.019287  \n",
       "204    560037  12.957177  \n",
       "274    560076  12.897426  \n",
       "299    560102  12.997821  "
      ]
     },
     "execution_count": 27,
     "metadata": {},
     "output_type": "execute_result"
    }
   ],
   "source": [
    "X_test.head()"
   ]
  },
  {
   "cell_type": "code",
   "execution_count": 28,
   "id": "494ed2bb",
   "metadata": {},
   "outputs": [
    {
     "data": {
      "text/plain": [
       "175   1970-01-01 00:00:00.000000012\n",
       "63    1970-01-01 00:00:00.000000012\n",
       "37    1970-01-01 00:00:00.000000012\n",
       "126   1970-01-01 00:00:00.000000012\n",
       "199   1970-01-01 00:00:00.000000013\n",
       "Name: Address, dtype: datetime64[ns]"
      ]
     },
     "execution_count": 28,
     "metadata": {},
     "output_type": "execute_result"
    }
   ],
   "source": [
    "y_train.head()"
   ]
  },
  {
   "cell_type": "code",
   "execution_count": 29,
   "id": "7154097b",
   "metadata": {},
   "outputs": [
    {
     "data": {
      "text/plain": [
       "225   1970-01-01 00:00:00.000000013\n",
       "271   1970-01-01 00:00:00.000000013\n",
       "204   1970-01-01 00:00:00.000000012\n",
       "274   1970-01-01 00:00:00.000000012\n",
       "299   1970-01-01 00:00:00.000000012\n",
       "Name: Address, dtype: datetime64[ns]"
      ]
     },
     "execution_count": 29,
     "metadata": {},
     "output_type": "execute_result"
    }
   ],
   "source": [
    "y_test.head()"
   ]
  },
  {
   "cell_type": "code",
   "execution_count": 33,
   "id": "a97d8915",
   "metadata": {},
   "outputs": [
    {
     "ename": "ValueError",
     "evalue": "Expected 2D array, got 1D array instead:\narray=[77.57434  77.5946   77.518295 77.635956 77.73503  77.63938  77.57911\n 77.69315  77.64693  77.5946   77.73503  77.64525  77.5946   77.69315\n 77.5946   77.58607  77.635956 77.58642  77.58607  77.59239  77.5946\n 77.623276 77.59125  77.57911  77.64693  77.60717  77.635956 77.58607\n 77.59125  77.59791  77.64693  77.57911  77.69315  77.5946   77.58607\n 77.73503  77.58642  77.59791  77.59458  77.55275  77.704475 77.51636\n 77.63938  77.63938  77.57911  77.635956 77.50071  77.59125  77.5946\n 77.64693  77.554    77.554    77.63938  77.64693  77.58607  77.5946\n 77.5946   77.58262  77.63938  77.64525  77.58642  77.56189  77.58607\n 77.58642  77.58642  77.56026  77.58607  77.54719  77.53645  77.54606\n 77.55707  77.67272  77.64693  77.60717  77.58642  77.63938  77.635956\n 77.635956 77.52272  77.57911  77.69315  77.64693  77.64693  77.63938\n 77.518295 77.59991  77.57911  77.57911  77.68557  77.48512  77.64693\n 20.253788 77.63938  77.51636  77.63938  77.59791  77.59791  77.6361\n 77.63938  77.55707  77.63655  77.63938  77.5946   77.60717  77.667015\n 77.55275  77.62211  77.723366 77.69315  77.57089  77.54606  77.635956\n 77.48525  77.55707  77.635956 77.70128  77.64525  21.687208 77.57911\n 77.57911  77.63938  20.551756 77.60037  77.60717  77.64693  77.52272\n 77.70128  77.58642  77.59991  77.63938  77.58607  77.55707  77.66185\n 77.73503  77.64525  77.57434  77.59125  77.64693  77.59791  77.6361\n 77.57911  77.56714  77.57089  77.64693  77.66185  77.64525  77.63655\n 77.571945 21.687208 77.54743  77.73503  77.58607  77.64525  77.623276\n 77.58846  77.63634  77.635956 77.64693  77.56026  77.518295 77.5946\n 77.667015 77.64693  77.58607  77.54844  77.635956 77.63938  77.64525\n 77.5984   77.57089  77.55707  77.58846  21.687208 77.64525  77.64693\n 77.54606  77.58607  77.635506 77.68557  77.67272  77.59991  77.69315\n 77.64011  77.62211  77.62012  77.63634  77.59991  77.64011  77.58642\n 77.69315  77.63938  77.58642  77.706825 77.58607  77.60456  77.73503\n 77.582344 77.65636  77.723366 77.64525  77.635956 77.58846  77.58846\n 77.59991  77.69315  77.64525  77.58607  77.58846  77.65636  77.59239\n 77.75644  77.51869  77.499405 77.58846  77.58607  77.59991  77.53645\n 77.64011  77.518295 77.56026  77.59991  77.63938  77.68787  77.571945\n 77.64525  77.54844  77.73503  77.65636  77.62012  77.66185  77.58846\n 77.73503  77.58607  77.68787  77.58846  77.63938  77.797356 77.58846\n 77.56026  77.63634  77.55747  77.63938  77.5946   77.55747  77.55747\n 77.60717  77.57434  77.63634  77.64693  77.60717  77.69315  77.55275\n 77.66185  77.60456  77.658035 77.63938  77.64525  77.53645  77.667015\n 77.5984   77.63938  77.64525  77.59991  77.56026  77.64693  77.58642\n 77.56026  77.48512  77.53765  77.54606  77.48512  77.64525  77.53645\n 77.56128  77.59791  77.73503  77.571945 77.67272  77.57434  77.61965\n 77.66185  77.66185  77.6024   77.69315  77.723366 77.60456  77.70128\n 77.64525  77.62012  77.667015 77.59991  20.253788 77.58846  77.59535\n 77.598114 77.76233  77.63634  77.54755  77.518295 77.64693  77.55275\n 77.702515 77.64525  77.702515 77.53645  77.5984   77.5984   77.62211\n 77.723366 21.687208 77.58607  77.63129  77.62211  77.571945 77.658035\n 77.53765  77.64525  77.6361   77.63655  77.571945 77.53765  77.64525\n 77.58846  20.551756 77.6361   77.57434  77.5946   77.57434  77.55275\n 77.51636  77.56622  77.73599  77.554    77.53765  77.52304  77.565704\n 77.51869  77.57089  77.58846  77.73503 ].\nReshape your data either using array.reshape(-1, 1) if your data has a single feature or array.reshape(1, -1) if it contains a single sample.",
     "output_type": "error",
     "traceback": [
      "\u001b[1;31m---------------------------------------------------------------------------\u001b[0m",
      "\u001b[1;31mValueError\u001b[0m                                Traceback (most recent call last)",
      "\u001b[1;32m<ipython-input-33-73991e57d193>\u001b[0m in \u001b[0;36m<module>\u001b[1;34m\u001b[0m\n\u001b[0;32m      4\u001b[0m \u001b[1;32mfrom\u001b[0m \u001b[0msklearn\u001b[0m\u001b[1;33m.\u001b[0m\u001b[0mtree\u001b[0m \u001b[1;32mimport\u001b[0m \u001b[0mDecisionTreeRegressor\u001b[0m\u001b[1;33m\u001b[0m\u001b[1;33m\u001b[0m\u001b[0m\n\u001b[0;32m      5\u001b[0m \u001b[0mregressor\u001b[0m \u001b[1;33m=\u001b[0m \u001b[0mDecisionTreeRegressor\u001b[0m\u001b[1;33m(\u001b[0m\u001b[0mrandom_state\u001b[0m \u001b[1;33m=\u001b[0m \u001b[1;36m42\u001b[0m\u001b[1;33m)\u001b[0m\u001b[1;33m\u001b[0m\u001b[1;33m\u001b[0m\u001b[0m\n\u001b[1;32m----> 6\u001b[1;33m \u001b[0mregressor\u001b[0m\u001b[1;33m.\u001b[0m\u001b[0mfit\u001b[0m\u001b[1;33m(\u001b[0m\u001b[0mX\u001b[0m\u001b[1;33m,\u001b[0m \u001b[0my\u001b[0m\u001b[1;33m)\u001b[0m\u001b[1;33m\u001b[0m\u001b[1;33m\u001b[0m\u001b[0m\n\u001b[0m",
      "\u001b[1;32m~\\Anaconda3\\lib\\site-packages\\sklearn\\tree\\_classes.py\u001b[0m in \u001b[0;36mfit\u001b[1;34m(self, X, y, sample_weight, check_input, X_idx_sorted)\u001b[0m\n\u001b[0;32m   1313\u001b[0m         \"\"\"\n\u001b[0;32m   1314\u001b[0m \u001b[1;33m\u001b[0m\u001b[0m\n\u001b[1;32m-> 1315\u001b[1;33m         super().fit(\n\u001b[0m\u001b[0;32m   1316\u001b[0m             \u001b[0mX\u001b[0m\u001b[1;33m,\u001b[0m\u001b[1;33m\u001b[0m\u001b[1;33m\u001b[0m\u001b[0m\n\u001b[0;32m   1317\u001b[0m             \u001b[0my\u001b[0m\u001b[1;33m,\u001b[0m\u001b[1;33m\u001b[0m\u001b[1;33m\u001b[0m\u001b[0m\n",
      "\u001b[1;32m~\\Anaconda3\\lib\\site-packages\\sklearn\\tree\\_classes.py\u001b[0m in \u001b[0;36mfit\u001b[1;34m(self, X, y, sample_weight, check_input, X_idx_sorted)\u001b[0m\n\u001b[0;32m    163\u001b[0m             \u001b[0mcheck_X_params\u001b[0m \u001b[1;33m=\u001b[0m \u001b[0mdict\u001b[0m\u001b[1;33m(\u001b[0m\u001b[0mdtype\u001b[0m\u001b[1;33m=\u001b[0m\u001b[0mDTYPE\u001b[0m\u001b[1;33m,\u001b[0m \u001b[0maccept_sparse\u001b[0m\u001b[1;33m=\u001b[0m\u001b[1;34m\"csc\"\u001b[0m\u001b[1;33m)\u001b[0m\u001b[1;33m\u001b[0m\u001b[1;33m\u001b[0m\u001b[0m\n\u001b[0;32m    164\u001b[0m             \u001b[0mcheck_y_params\u001b[0m \u001b[1;33m=\u001b[0m \u001b[0mdict\u001b[0m\u001b[1;33m(\u001b[0m\u001b[0mensure_2d\u001b[0m\u001b[1;33m=\u001b[0m\u001b[1;32mFalse\u001b[0m\u001b[1;33m,\u001b[0m \u001b[0mdtype\u001b[0m\u001b[1;33m=\u001b[0m\u001b[1;32mNone\u001b[0m\u001b[1;33m)\u001b[0m\u001b[1;33m\u001b[0m\u001b[1;33m\u001b[0m\u001b[0m\n\u001b[1;32m--> 165\u001b[1;33m             X, y = self._validate_data(\n\u001b[0m\u001b[0;32m    166\u001b[0m                 \u001b[0mX\u001b[0m\u001b[1;33m,\u001b[0m \u001b[0my\u001b[0m\u001b[1;33m,\u001b[0m \u001b[0mvalidate_separately\u001b[0m\u001b[1;33m=\u001b[0m\u001b[1;33m(\u001b[0m\u001b[0mcheck_X_params\u001b[0m\u001b[1;33m,\u001b[0m \u001b[0mcheck_y_params\u001b[0m\u001b[1;33m)\u001b[0m\u001b[1;33m\u001b[0m\u001b[1;33m\u001b[0m\u001b[0m\n\u001b[0;32m    167\u001b[0m             )\n",
      "\u001b[1;32m~\\Anaconda3\\lib\\site-packages\\sklearn\\base.py\u001b[0m in \u001b[0;36m_validate_data\u001b[1;34m(self, X, y, reset, validate_separately, **check_params)\u001b[0m\n\u001b[0;32m    576\u001b[0m                 \u001b[1;31m# :(\u001b[0m\u001b[1;33m\u001b[0m\u001b[1;33m\u001b[0m\u001b[1;33m\u001b[0m\u001b[0m\n\u001b[0;32m    577\u001b[0m                 \u001b[0mcheck_X_params\u001b[0m\u001b[1;33m,\u001b[0m \u001b[0mcheck_y_params\u001b[0m \u001b[1;33m=\u001b[0m \u001b[0mvalidate_separately\u001b[0m\u001b[1;33m\u001b[0m\u001b[1;33m\u001b[0m\u001b[0m\n\u001b[1;32m--> 578\u001b[1;33m                 \u001b[0mX\u001b[0m \u001b[1;33m=\u001b[0m \u001b[0mcheck_array\u001b[0m\u001b[1;33m(\u001b[0m\u001b[0mX\u001b[0m\u001b[1;33m,\u001b[0m \u001b[1;33m**\u001b[0m\u001b[0mcheck_X_params\u001b[0m\u001b[1;33m)\u001b[0m\u001b[1;33m\u001b[0m\u001b[1;33m\u001b[0m\u001b[0m\n\u001b[0m\u001b[0;32m    579\u001b[0m                 \u001b[0my\u001b[0m \u001b[1;33m=\u001b[0m \u001b[0mcheck_array\u001b[0m\u001b[1;33m(\u001b[0m\u001b[0my\u001b[0m\u001b[1;33m,\u001b[0m \u001b[1;33m**\u001b[0m\u001b[0mcheck_y_params\u001b[0m\u001b[1;33m)\u001b[0m\u001b[1;33m\u001b[0m\u001b[1;33m\u001b[0m\u001b[0m\n\u001b[0;32m    580\u001b[0m             \u001b[1;32melse\u001b[0m\u001b[1;33m:\u001b[0m\u001b[1;33m\u001b[0m\u001b[1;33m\u001b[0m\u001b[0m\n",
      "\u001b[1;32m~\\Anaconda3\\lib\\site-packages\\sklearn\\utils\\validation.py\u001b[0m in \u001b[0;36mcheck_array\u001b[1;34m(array, accept_sparse, accept_large_sparse, dtype, order, copy, force_all_finite, ensure_2d, allow_nd, ensure_min_samples, ensure_min_features, estimator)\u001b[0m\n\u001b[0;32m    767\u001b[0m             \u001b[1;31m# If input is 1D raise error\u001b[0m\u001b[1;33m\u001b[0m\u001b[1;33m\u001b[0m\u001b[1;33m\u001b[0m\u001b[0m\n\u001b[0;32m    768\u001b[0m             \u001b[1;32mif\u001b[0m \u001b[0marray\u001b[0m\u001b[1;33m.\u001b[0m\u001b[0mndim\u001b[0m \u001b[1;33m==\u001b[0m \u001b[1;36m1\u001b[0m\u001b[1;33m:\u001b[0m\u001b[1;33m\u001b[0m\u001b[1;33m\u001b[0m\u001b[0m\n\u001b[1;32m--> 769\u001b[1;33m                 raise ValueError(\n\u001b[0m\u001b[0;32m    770\u001b[0m                     \u001b[1;34m\"Expected 2D array, got 1D array instead:\\narray={}.\\n\"\u001b[0m\u001b[1;33m\u001b[0m\u001b[1;33m\u001b[0m\u001b[0m\n\u001b[0;32m    771\u001b[0m                     \u001b[1;34m\"Reshape your data either using array.reshape(-1, 1) if \"\u001b[0m\u001b[1;33m\u001b[0m\u001b[1;33m\u001b[0m\u001b[0m\n",
      "\u001b[1;31mValueError\u001b[0m: Expected 2D array, got 1D array instead:\narray=[77.57434  77.5946   77.518295 77.635956 77.73503  77.63938  77.57911\n 77.69315  77.64693  77.5946   77.73503  77.64525  77.5946   77.69315\n 77.5946   77.58607  77.635956 77.58642  77.58607  77.59239  77.5946\n 77.623276 77.59125  77.57911  77.64693  77.60717  77.635956 77.58607\n 77.59125  77.59791  77.64693  77.57911  77.69315  77.5946   77.58607\n 77.73503  77.58642  77.59791  77.59458  77.55275  77.704475 77.51636\n 77.63938  77.63938  77.57911  77.635956 77.50071  77.59125  77.5946\n 77.64693  77.554    77.554    77.63938  77.64693  77.58607  77.5946\n 77.5946   77.58262  77.63938  77.64525  77.58642  77.56189  77.58607\n 77.58642  77.58642  77.56026  77.58607  77.54719  77.53645  77.54606\n 77.55707  77.67272  77.64693  77.60717  77.58642  77.63938  77.635956\n 77.635956 77.52272  77.57911  77.69315  77.64693  77.64693  77.63938\n 77.518295 77.59991  77.57911  77.57911  77.68557  77.48512  77.64693\n 20.253788 77.63938  77.51636  77.63938  77.59791  77.59791  77.6361\n 77.63938  77.55707  77.63655  77.63938  77.5946   77.60717  77.667015\n 77.55275  77.62211  77.723366 77.69315  77.57089  77.54606  77.635956\n 77.48525  77.55707  77.635956 77.70128  77.64525  21.687208 77.57911\n 77.57911  77.63938  20.551756 77.60037  77.60717  77.64693  77.52272\n 77.70128  77.58642  77.59991  77.63938  77.58607  77.55707  77.66185\n 77.73503  77.64525  77.57434  77.59125  77.64693  77.59791  77.6361\n 77.57911  77.56714  77.57089  77.64693  77.66185  77.64525  77.63655\n 77.571945 21.687208 77.54743  77.73503  77.58607  77.64525  77.623276\n 77.58846  77.63634  77.635956 77.64693  77.56026  77.518295 77.5946\n 77.667015 77.64693  77.58607  77.54844  77.635956 77.63938  77.64525\n 77.5984   77.57089  77.55707  77.58846  21.687208 77.64525  77.64693\n 77.54606  77.58607  77.635506 77.68557  77.67272  77.59991  77.69315\n 77.64011  77.62211  77.62012  77.63634  77.59991  77.64011  77.58642\n 77.69315  77.63938  77.58642  77.706825 77.58607  77.60456  77.73503\n 77.582344 77.65636  77.723366 77.64525  77.635956 77.58846  77.58846\n 77.59991  77.69315  77.64525  77.58607  77.58846  77.65636  77.59239\n 77.75644  77.51869  77.499405 77.58846  77.58607  77.59991  77.53645\n 77.64011  77.518295 77.56026  77.59991  77.63938  77.68787  77.571945\n 77.64525  77.54844  77.73503  77.65636  77.62012  77.66185  77.58846\n 77.73503  77.58607  77.68787  77.58846  77.63938  77.797356 77.58846\n 77.56026  77.63634  77.55747  77.63938  77.5946   77.55747  77.55747\n 77.60717  77.57434  77.63634  77.64693  77.60717  77.69315  77.55275\n 77.66185  77.60456  77.658035 77.63938  77.64525  77.53645  77.667015\n 77.5984   77.63938  77.64525  77.59991  77.56026  77.64693  77.58642\n 77.56026  77.48512  77.53765  77.54606  77.48512  77.64525  77.53645\n 77.56128  77.59791  77.73503  77.571945 77.67272  77.57434  77.61965\n 77.66185  77.66185  77.6024   77.69315  77.723366 77.60456  77.70128\n 77.64525  77.62012  77.667015 77.59991  20.253788 77.58846  77.59535\n 77.598114 77.76233  77.63634  77.54755  77.518295 77.64693  77.55275\n 77.702515 77.64525  77.702515 77.53645  77.5984   77.5984   77.62211\n 77.723366 21.687208 77.58607  77.63129  77.62211  77.571945 77.658035\n 77.53765  77.64525  77.6361   77.63655  77.571945 77.53765  77.64525\n 77.58846  20.551756 77.6361   77.57434  77.5946   77.57434  77.55275\n 77.51636  77.56622  77.73599  77.554    77.53765  77.52304  77.565704\n 77.51869  77.57089  77.58846  77.73503 ].\nReshape your data either using array.reshape(-1, 1) if your data has a single feature or array.reshape(1, -1) if it contains a single sample."
     ]
    }
   ],
   "source": [
    "X = data.iloc[:,0 -1].values\n",
    "y = data.iloc[:, 1].values\n",
    "\n",
    "from sklearn.tree import DecisionTreeRegressor\n",
    "regressor = DecisionTreeRegressor(random_state = 42)\n",
    "regressor.fit(X, y)"
   ]
  },
  {
   "cell_type": "code",
   "execution_count": null,
   "id": "1bba3041",
   "metadata": {},
   "outputs": [],
   "source": []
  }
 ],
 "metadata": {
  "kernelspec": {
   "display_name": "Python 3",
   "language": "python",
   "name": "python3"
  },
  "language_info": {
   "codemirror_mode": {
    "name": "ipython",
    "version": 3
   },
   "file_extension": ".py",
   "mimetype": "text/x-python",
   "name": "python",
   "nbconvert_exporter": "python",
   "pygments_lexer": "ipython3",
   "version": "3.8.8"
  }
 },
 "nbformat": 4,
 "nbformat_minor": 5
}
